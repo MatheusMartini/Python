{
  "nbformat": 4,
  "nbformat_minor": 0,
  "metadata": {
    "colab": {
      "name": "introduction data science",
      "provenance": [],
      "authorship_tag": "ABX9TyOeZfLl8yPoNJ9OAW0jgZgq",
      "include_colab_link": true
    },
    "kernelspec": {
      "name": "python3",
      "display_name": "Python 3"
    }
  },
  "cells": [
    {
      "cell_type": "markdown",
      "metadata": {
        "id": "view-in-github",
        "colab_type": "text"
      },
      "source": [
        "<a href=\"https://colab.research.google.com/github/MatheusMartini/Python/blob/main/introduction_data_science.ipynb\" target=\"_parent\"><img src=\"https://colab.research.google.com/assets/colab-badge.svg\" alt=\"Open In Colab\"/></a>"
      ]
    },
    {
      "cell_type": "code",
      "metadata": {
        "id": "zkiUrEKdDN23"
      },
      "source": [
        "import pandas as pd\n",
        "\n",
        "# rating uri\n",
        "uri = \"https://raw.githubusercontent.com/MatheusMartini/Python/main/introduction%20to%20data%20science/class1/ratings.csv\"\n",
        "\n",
        "notes = pd.read_csv(uri)\n",
        "notes.head()"
      ],
      "execution_count": null,
      "outputs": []
    },
    {
      "cell_type": "code",
      "metadata": {
        "id": "kxMj6H9mJ0ou"
      },
      "source": [
        "# total votes\n",
        "notes.shape"
      ],
      "execution_count": null,
      "outputs": []
    },
    {
      "cell_type": "code",
      "metadata": {
        "id": "9AunlcnFEDMF"
      },
      "source": [
        "# overwrite\n",
        "notes.columns = [\"userId\",\"moviesId\",\"rating\",\"moment rating\"] "
      ],
      "execution_count": 26,
      "outputs": []
    },
    {
      "cell_type": "code",
      "metadata": {
        "id": "Q_A1X6fIJMqx"
      },
      "source": [
        "# total rating\n",
        "notes[\"rating\"].value_counts()"
      ],
      "execution_count": null,
      "outputs": []
    },
    {
      "cell_type": "code",
      "metadata": {
        "id": "qzkpvXmsMH7V"
      },
      "source": [
        "# mean\n",
        "print(\"media is\",notes[\"rating\"].mean())\n",
        "# median\n",
        "print(\"median is\",notes.rating.median())"
      ],
      "execution_count": null,
      "outputs": []
    },
    {
      "cell_type": "code",
      "metadata": {
        "id": "h2qIxueqTeCj"
      },
      "source": [
        "# notes describe\n",
        "notes.rating.describe()"
      ],
      "execution_count": null,
      "outputs": []
    },
    {
      "cell_type": "code",
      "metadata": {
        "id": "r_dI4w53N2He"
      },
      "source": [
        "# notes graph\n",
        "notes.rating.plot(kind = 'hist')"
      ],
      "execution_count": null,
      "outputs": []
    },
    {
      "cell_type": "code",
      "metadata": {
        "id": "7bF3tlUWSGAg"
      },
      "source": [
        "import seaborn as sns\n",
        "# notes graph using seaborn\n",
        "# axis x y\n",
        "print(sns.boxplot(y=notes.rating))"
      ],
      "execution_count": null,
      "outputs": []
    },
    {
      "cell_type": "code",
      "metadata": {
        "id": "OO_oa39FT5Nw"
      },
      "source": [
        "######"
      ],
      "execution_count": 82,
      "outputs": []
    },
    {
      "cell_type": "code",
      "metadata": {
        "id": "0LDEJZQcSGG_"
      },
      "source": [
        "# movies uri\n",
        "uri = \"https://raw.githubusercontent.com/MatheusMartini/Python/main/introduction%20to%20data%20science/class1/movies.csv\"\n",
        "\n",
        "movies = pd.read_csv(uri)\n",
        "movies.head()"
      ],
      "execution_count": null,
      "outputs": []
    },
    {
      "cell_type": "code",
      "metadata": {
        "id": "zZUWNeJySGLo",
        "outputId": "ed36f17f-084f-4cc0-e674-a5d8d4cffd23",
        "colab": {
          "base_uri": "https://localhost:8080/",
          "height": 34
        }
      },
      "source": [
        "# query searching average movie rating\n",
        "notes.query(\"movieId == 2\").rating.mean()"
      ],
      "execution_count": 89,
      "outputs": [
        {
          "output_type": "execute_result",
          "data": {
            "text/plain": [
              "3.4318181818181817"
            ]
          },
          "metadata": {
            "tags": []
          },
          "execution_count": 89
        }
      ]
    },
    {
      "cell_type": "code",
      "metadata": {
        "id": "4AX8XeVMUuQi"
      },
      "source": [
        "# grouped movieId using groupby getting the average\n",
        "mean_movie = notes.groupby(\"movieId\").rating.mean()\n",
        "mean_movie.head()"
      ],
      "execution_count": 103,
      "outputs": []
    },
    {
      "cell_type": "code",
      "metadata": {
        "id": "5wUFCxpFuq9O"
      },
      "source": [
        "# hist\n",
        "mean_movie.plot(kind = \"hist\")"
      ],
      "execution_count": null,
      "outputs": []
    },
    {
      "cell_type": "code",
      "metadata": {
        "id": "pv6ud5aKvbJc"
      },
      "source": [
        "# describe notes\n",
        "mean_movie.describe()"
      ],
      "execution_count": null,
      "outputs": []
    },
    {
      "cell_type": "code",
      "metadata": {
        "id": "FEZRM-CXvzGT"
      },
      "source": [
        "# distplot with sns \n",
        "print(sns.distplot(mean_movie,bins=15))\n",
        "print(sns.displot(mean_movie,bins=15))"
      ],
      "execution_count": null,
      "outputs": []
    },
    {
      "cell_type": "code",
      "metadata": {
        "id": "bBHSK-5kyJI2"
      },
      "source": [
        "# pandas and seaborn use matplotlib\n",
        "import matplotlib.pyplot as plt\n",
        "plt.hist(mean_movie)"
      ],
      "execution_count": null,
      "outputs": []
    },
    {
      "cell_type": "code",
      "metadata": {
        "id": "mD3KcJ232QXC"
      },
      "source": [
        "# uri tmdb\n",
        "uri =\"https://raw.githubusercontent.com/MatheusMartini/Python/main/introduction%20to%20data%20science/class1/tmdb_5000_movies.csv\"\n",
        "tmdb = pd.read_csv(uri)\n",
        "tmdb.head()"
      ],
      "execution_count": null,
      "outputs": []
    },
    {
      "cell_type": "code",
      "metadata": {
        "id": "D7ssEQHY-fG_"
      },
      "source": [
        "# language in data frame original\n",
        "count_language = tmdb[\"original_language\"].value_counts().to_frame().reset_index()\n",
        "count_language.columns = [\"original_language\",\"total language\"]\n",
        "count_language.head()"
      ],
      "execution_count": null,
      "outputs": []
    },
    {
      "cell_type": "code",
      "metadata": {
        "id": "VMyTNF4m__12"
      },
      "source": [
        "# language graph with seaborn\n",
        "sns.catplot(x=\"original_language\",kind=\"count\",data = tmdb)"
      ],
      "execution_count": null,
      "outputs": []
    },
    {
      "cell_type": "code",
      "metadata": {
        "id": "vamC0GZnDP_l"
      },
      "source": [
        "# language graph using matplotlib\n",
        "plt.pie(count_language[\"total language\"],labels = count_language[\"original_language\"])"
      ],
      "execution_count": null,
      "outputs": []
    },
    {
      "cell_type": "code",
      "metadata": {
        "id": "v63rxKcLDx4j"
      },
      "source": [
        "# language variables \n",
        "total_per_language = tmdb[\"original_language\"].value_counts()\n",
        "total_all = total_per_language.sum()\n",
        "total_en = total_per_language.loc[\"en\"]\n",
        "total_remainder =  total_all - total_en "
      ],
      "execution_count": 249,
      "outputs": []
    },
    {
      "cell_type": "code",
      "metadata": {
        "id": "BQTWMlyNJNJi"
      },
      "source": [
        "# data created with language and total\n",
        "data = {\n",
        "    \"language\" : [\"English\",\"others\"],\n",
        "    \"total\" : [total_en, total_remainder]\n",
        "}\n",
        "data"
      ],
      "execution_count": null,
      "outputs": []
    },
    {
      "cell_type": "code",
      "metadata": {
        "id": "7INs7o-sJuID"
      },
      "source": [
        "# data frame created using pandas\n",
        "pd.DataFrame(data)"
      ],
      "execution_count": null,
      "outputs": []
    },
    {
      "cell_type": "code",
      "metadata": {
        "id": "moJfE_vwJ4Tv"
      },
      "source": [
        "# language graph with matplotlib\n",
        "plt.pie(data[\"total\"],labels = data[\"language\"])"
      ],
      "execution_count": null,
      "outputs": []
    },
    {
      "cell_type": "code",
      "metadata": {
        "id": "135hfkTbK0qC"
      },
      "source": [
        "# language graph with seaborn\n",
        "sns.barplot(x=\"language\", y=\"total\", data = data)"
      ],
      "execution_count": null,
      "outputs": []
    },
    {
      "cell_type": "code",
      "metadata": {
        "id": "bNEtzBMCN0B7",
        "outputId": "8693b6e4-472b-46ce-d71f-2747c5ff8163",
        "colab": {
          "base_uri": "https://localhost:8080/",
          "height": 401
        }
      },
      "source": [
        "total_per_language_other = tmdb.query(\"original_language != 'en'\").original_language.value_counts()\n",
        "movies_without_en = tmdb.query(\"original_language != 'en'\")\n",
        "sns.catplot(x=\"original_language\",\n",
        "            kind=\"count\",\n",
        "            data = movies_without_en,\n",
        "            aspect = 2,\n",
        "            palette= \"rocket\",\n",
        "            order = total_per_language_other.index )"
      ],
      "execution_count": 310,
      "outputs": [
        {
          "output_type": "execute_result",
          "data": {
            "text/plain": [
              "<seaborn.axisgrid.FacetGrid at 0x7f24c874a080>"
            ]
          },
          "metadata": {
            "tags": []
          },
          "execution_count": 310
        },
        {
          "output_type": "display_data",
          "data": {
            "image/png": "[encoded data removed]",
            "text/plain": [
              "<Figure size 720x360 with 1 Axes>"
            ]
          },
          "metadata": {
            "tags": [],
            "needs_background": "light"
          }
        }
      ]
    }
  ]
}