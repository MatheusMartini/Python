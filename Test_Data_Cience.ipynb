{
  "nbformat": 4,
  "nbformat_minor": 0,
  "metadata": {
    "colab": {
      "name": "Test Data Cience",
      "provenance": [],
      "collapsed_sections": [],
      "authorship_tag": "ABX9TyOswhgrIrG3Ue9e92KWdC1k",
      "include_colab_link": true
    },
    "kernelspec": {
      "name": "python3",
      "display_name": "Python 3"
    }
  },
  "cells": [
    {
      "cell_type": "markdown",
      "metadata": {
        "id": "view-in-github",
        "colab_type": "text"
      },
      "source": [
        "<a href=\"https://colab.research.google.com/github/MatheusMartini/Python/blob/main/Test_Data_Cience.ipynb\" target=\"_parent\"><img src=\"https://colab.research.google.com/assets/colab-badge.svg\" alt=\"Open In Colab\"/></a>"
      ]
    },
    {
      "cell_type": "code",
      "metadata": {
        "id": "QPK2vV02KWEn"
      },
      "source": [
        "import pandas as pd"
      ],
      "execution_count": 5,
      "outputs": []
    },
    {
      "cell_type": "code",
      "metadata": {
        "id": "0wk_iDKaL0Z8"
      },
      "source": [
        "uri = \"https://raw.githubusercontent.com/alura-cursos/introducao-a-data-science/master/aula4.2/movies.csv\"\n",
        "# this is a data frame\n",
        "movies = pd.read_csv(uri)\n",
        "movies.head()"
      ],
      "execution_count": null,
      "outputs": []
    },
    {
      "cell_type": "code",
      "metadata": {
        "id": "d7nXkrGFPneN"
      },
      "source": [
        "uri = \"https://raw.githubusercontent.com/alura-cursos/introducao-a-data-science/master/aula6.2/ratings.csv\"\n",
        "grades = pd.read_csv(uri)\n",
        "grades.head()\n"
      ],
      "execution_count": null,
      "outputs": []
    },
    {
      "cell_type": "code",
      "metadata": {
        "id": "wKDPMrIsNxba"
      },
      "source": [
        "# this is a series numbers\n",
        "grades[\"rating\"].head()"
      ],
      "execution_count": null,
      "outputs": []
    },
    {
      "cell_type": "code",
      "metadata": {
        "id": "NCfng-lANtvn"
      },
      "source": [
        "# unique note values\n",
        "grades[\"rating\"].unique()"
      ],
      "execution_count": null,
      "outputs": []
    }
  ]
}