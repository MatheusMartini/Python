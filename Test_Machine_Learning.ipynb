{
  "nbformat": 4,
  "nbformat_minor": 0,
  "metadata": {
    "colab": {
      "name": "Test Machine Learning",
      "provenance": [],
      "authorship_tag": "ABX9TyOic6dSDKb2M683dq3ZpQz3",
      "include_colab_link": true
    },
    "kernelspec": {
      "name": "python3",
      "display_name": "Python 3"
    }
  },
  "cells": [
    {
      "cell_type": "markdown",
      "metadata": {
        "id": "view-in-github",
        "colab_type": "text"
      },
      "source": [
        "<a href=\"https://colab.research.google.com/github/MatheusMartini/Python/blob/main/Test_Machine_Learning.ipynb\" target=\"_parent\"><img src=\"https://colab.research.google.com/assets/colab-badge.svg\" alt=\"Open In Colab\"/></a>"
      ]
    },
    {
      "cell_type": "code",
      "metadata": {
        "id": "oST0scgqO_x_"
      },
      "source": [
        "# Test using binaries \n",
        "\n",
        "# animal characteristics\n",
        "# 1 true, 0 false\n",
        "# long hair \n",
        "# Meow\n",
        "# short leg\n",
        "\n",
        "cat1 = [ 1, 1, 1]\n",
        "cat2 = [ 0, 1, 1]\n",
        "cat3 = [ 0, 1, 0]\n",
        "\n",
        "dog1 = [ 1, 0, 1]\n",
        "dog2 = [ 0, 0, 0]\n",
        "dog3 = [ 1, 0, 0]\n",
        "\n",
        "training_x = [ cat1, cat2, cat3, dog1, dog2, dog3]\n",
        "training_y = [ 1, 1, 1, 0, 0, 0]# cat 1 / dog 0"
      ],
      "execution_count": 10,
      "outputs": []
    },
    {
      "cell_type": "code",
      "metadata": {
        "id": "L9ygAV30To08"
      },
      "source": [
        "from sklearn.svm import LinearSVC\n",
        "\n",
        "model = LinearSVC()\n",
        "model.fit(training_x, training_y)"
      ],
      "execution_count": null,
      "outputs": []
    },
    {
      "cell_type": "code",
      "metadata": {
        "id": "t5Rq0UlhUfSo"
      },
      "source": [
        "mysterious_animal = [0, 1, 0]\n",
        "model.predict([mysterious_animal])"
      ],
      "execution_count": null,
      "outputs": []
    },
    {
      "cell_type": "code",
      "metadata": {
        "id": "6WM7EpMcU9ca",
        "outputId": "ab44d649-c9a2-422c-c6ae-600225c3a26f",
        "colab": {
          "base_uri": "https://localhost:8080/"
        }
      },
      "source": [
        "mysterious_animal1 = [ 1, 0, 1]\n",
        "mysterious_animal2 = [ 1, 1, 0]\n",
        "mysterious_animal3 = [ 0, 0, 1]\n",
        "\n",
        "test_x = [mysterious_animal1, mysterious_animal2, mysterious_animal3]\n",
        "test_y = [ 0, 1, 0]\n",
        "\n",
        "prev = model.predict(test_x)\n",
        "prev"
      ],
      "execution_count": 25,
      "outputs": [
        {
          "output_type": "execute_result",
          "data": {
            "text/plain": [
              "array([0, 1, 0])"
            ]
          },
          "metadata": {
            "tags": []
          },
          "execution_count": 25
        }
      ]
    },
    {
      "cell_type": "code",
      "metadata": {
        "id": "zIk2kqFMVqSM"
      },
      "source": [
        "from sklearn.metrics import  accuracy_score\n",
        "\n",
        "accuracy_score(test_y, prev)"
      ],
      "execution_count": null,
      "outputs": []
    }
  ]
}